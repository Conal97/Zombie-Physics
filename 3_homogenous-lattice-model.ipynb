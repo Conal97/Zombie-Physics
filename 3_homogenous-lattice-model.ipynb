{
  "nbformat": 4,
  "nbformat_minor": 0,
  "metadata": {
    "colab": {
      "name": "Homogenous Lattice Model",
      "provenance": [],
      "collapsed_sections": [],
      "include_colab_link": true
    },
    "kernelspec": {
      "name": "python3",
      "display_name": "Python 3"
    }
  },
  "cells": [
    {
      "cell_type": "markdown",
      "metadata": {
        "id": "view-in-github",
        "colab_type": "text"
      },
      "source": [
        "<a href=\"https://colab.research.google.com/gist/Conal97/e5a422411564e6c2fb0e4dc68fd8ef5a/homogenous-lattice-model.ipynb\" target=\"_parent\"><img src=\"https://colab.research.google.com/assets/colab-badge.svg\" alt=\"Open In Colab\"/></a>"
      ]
    },
    {
      "cell_type": "code",
      "metadata": {
        "id": "DGheSGtk5ub-",
        "colab_type": "code",
        "colab": {}
      },
      "source": [
        "!pip install mesa\n",
        "!pip install holoviews\n",
        "import numpy as np\n",
        "import math\n",
        "import random\n",
        "\n",
        "import matplotlib.pyplot as plt\n",
        "%matplotlib inline\n",
        "\n",
        "from mesa import Model, Agent\n",
        "from mesa.time import RandomActivation\n",
        "from mesa.space import SingleGrid\n",
        "from mesa.datacollection import DataCollector\n",
        "from mesa.batchrunner import BatchRunner"
      ],
      "execution_count": 0,
      "outputs": []
    },
    {
      "cell_type": "code",
      "metadata": {
        "id": "GjpiqYedMKDh",
        "colab_type": "code",
        "colab": {}
      },
      "source": [
        "# Agents\n",
        "\n",
        "class Individual(Agent):\n",
        "    '''\n",
        "    An individual on the grid.\n",
        "    \n",
        "    Attributes:\n",
        "        x, y: Grid coordinates\n",
        "        state: Can be \"Suscpetible\", \"Zombie\", or \"Removed\"\n",
        "        unique_id: (x,y) tuple. \n",
        "    \n",
        "    '''\n",
        "    def __init__(self, model, pos):\n",
        "        '''\n",
        "        Create a new individual.\n",
        "        Args:\n",
        "            pos: The individual's coordinates on the grid. Used as the unique_id\n",
        "        '''\n",
        "        super().__init__(pos, model)\n",
        "        self.pos = pos\n",
        "        self.unique_id = pos\n",
        "        self.condition = \"Suscpetible\"\n",
        "        \n",
        "    \n",
        "    def update_neighbors(self):\n",
        "        \"\"\"\n",
        "        Look around and see who neighbors are\n",
        "        \"\"\"\n",
        "        self.neighborhood = self.model.grid.get_neighborhood(self.pos,\n",
        "                                                        moore=False, radius=1)\n",
        "        self.neighbors = self.model.grid.get_cell_list_contents(self.neighborhood)\n",
        "\n",
        "\n",
        "    def step(self):\n",
        "        '''\n",
        "        If the individual is a susceptible, check if it has zombie neighbours \n",
        "        if it does then it can either remove the zombie or be bitten and then become a zombie. \n",
        "        '''\n",
        "        if self.condition == \"Susceptible\":\n",
        "          \n",
        "          self.update_neighbors()\n",
        "          # determining which of the nearest neighbors are Zombies\n",
        "          Zombie_neighbors = []\n",
        "          for agent in self.neighbors:\n",
        "            if agent.condition == \"Zombie\":\n",
        "              Zombie_neighbors.append(agent)\n",
        "          \n",
        "          if Zombie_neighbors:\n",
        "            # rate equations for determining if susceptible or zombie wins based on number of nearest neighbors\n",
        "\n",
        "            k1 = 0.03 * (5 - len(Zombie_neighbors))\n",
        "            k2 = 0.018 * len(Zombie_neighbors)\n",
        "            K = k1 + k2\n",
        "\n",
        "            # transitioning to zombie or removing zombie\n",
        "\n",
        "            if random.uniform(0.0,1.0) < k1 / K:\n",
        "              self.condition = \"Zombie\"\n",
        "            else:\n",
        "                for agent in Zombie_neighbors:\n",
        "                  agent.condition = \"Removed\""
      ],
      "execution_count": 0,
      "outputs": []
    },
    {
      "cell_type": "code",
      "metadata": {
        "id": "Q0GHR4j1gb2O",
        "colab_type": "code",
        "colab": {}
      },
      "source": [
        "class ZombieApocalypse(Model):\n",
        "    '''\n",
        "    A model that simulates a Zombie Apocalypse.\n",
        "    '''\n",
        "    def __init__(self, height, width):\n",
        "        '''\n",
        "        Create a Zombie Apocalypse model.\n",
        "        \n",
        "        Args:\n",
        "            height, width: The size of the grid to model\n",
        "            Each cell will have an individual, so the number of agents equals heigh * width. \n",
        "        '''\n",
        "        # Initialize model parameters\n",
        "        self.height = height\n",
        "        self.width = width\n",
        "        \n",
        "        # Set up model objects\n",
        "        self.schedule = RandomActivation(self)\n",
        "        self.grid = SingleGrid(height, width, torus=False)\n",
        "        self.dc = DataCollector(\n",
        "            model_reporters = {\"Susceptible\": lambda m: self.count_type(m, \"Susceptible\"),\n",
        "                                \"Zombie\": lambda m: self.count_type(m, \"Zombie\"),\n",
        "                                \"Removed\": lambda m: self.count_type(m, \"Removed\")})\n",
        "        \n",
        "        # Place an individual in each celll\n",
        "        for x in range(self.width):\n",
        "            for y in range(self.height):\n",
        "                    # Create a new individual\n",
        "                    new_Individual = Individual(self, (x, y))\n",
        "                    new_Individual.condition = \"Susceptible\"\n",
        "                    # Seeding patient zero\n",
        "                    if (x,y) == (22,54) :\n",
        "                      new_Individual.condition = \"Zombie\"\n",
        "                    self.grid[y][x] = new_Individual\n",
        "                    self.schedule.add(new_Individual)\n",
        "        self.running = True\n",
        "        \n",
        "    def step(self):\n",
        "        '''\n",
        "        Advance the model by one step.\n",
        "        '''\n",
        "        self.schedule.step()\n",
        "        self.dc.collect(self)\n",
        "        # Halt simulation if there are no more Susceptibles or Zombies\n",
        "        if self.count_type(self, \"Susceptibles\") or self.count_type(self, \"Zombies\") == 0:\n",
        "            self.running = False\n",
        "    \n",
        "    @staticmethod\n",
        "    def count_type(model, Individual_condition):\n",
        "        '''\n",
        "        Helper method to count trees in a given condition in a given model.\n",
        "        '''\n",
        "        count = 0\n",
        "        for Individual in model.schedule.agents:\n",
        "            if Individual.condition == Individual_condition:\n",
        "                count += 1\n",
        "        return count"
      ],
      "execution_count": 0,
      "outputs": []
    },
    {
      "cell_type": "code",
      "metadata": {
        "id": "08p-5oLifZQX",
        "colab_type": "code",
        "colab": {}
      },
      "source": [
        "Apocalypse = ZombieApocalypse(100, 100)\n",
        "for i in range(100):\n",
        "    Apocalypse.step()"
      ],
      "execution_count": 0,
      "outputs": []
    },
    {
      "cell_type": "markdown",
      "metadata": {
        "id": "UXytY6Aj4pRB",
        "colab_type": "text"
      },
      "source": [
        "**Plotting Trajectories**"
      ]
    },
    {
      "cell_type": "code",
      "metadata": {
        "id": "4phE76ZrEepJ",
        "colab_type": "code",
        "outputId": "6a185629-8f11-4d68-b595-1e785a56290d",
        "colab": {
          "base_uri": "https://localhost:8080/",
          "height": 283
        }
      },
      "source": [
        "results = Apocalypse.dc.get_model_vars_dataframe()\n",
        "results.plot()"
      ],
      "execution_count": 0,
      "outputs": [
        {
          "output_type": "execute_result",
          "data": {
            "text/plain": [
              "<matplotlib.axes._subplots.AxesSubplot at 0x7f8ca9278eb8>"
            ]
          },
          "metadata": {
            "tags": []
          },
          "execution_count": 7
        },
        {
          "output_type": "display_data",
          "data": {
            "image/png": "[encoded data removed]",
            "text/plain": [
              "<Figure size 432x288 with 1 Axes>"
            ]
          },
          "metadata": {
            "tags": []
          }
        }
      ]
    },
    {
      "cell_type": "code",
      "metadata": {
        "id": "ESsyToc-v38Y",
        "colab_type": "code",
        "colab": {}
      },
      "source": [
        "Apocalypse = ZombieApocalypse(100, 100)\n",
        "\n",
        "def value(cell):\n",
        "    if cell.condition == 'Susceptible': return 1\n",
        "    elif cell.condition == 'Zombie': return 2\n",
        "    elif cell.condition == 'Removed': return 3\n",
        "\n",
        "for i in range(100):\n",
        "    Apocalypse.step()\n",
        "    data = np.array([[value(c) for c in row] for row in Apocalypse.grid.grid])\n",
        "  "
      ],
      "execution_count": 0,
      "outputs": []
    },
    {
      "cell_type": "markdown",
      "metadata": {
        "id": "Hd2LOpNv4VED",
        "colab_type": "text"
      },
      "source": [
        "**Visualising End State**"
      ]
    },
    {
      "cell_type": "code",
      "metadata": {
        "id": "KYb35sRsjQeM",
        "colab_type": "code",
        "outputId": "eebe7be1-13e5-44d7-94aa-5ff6c106466a",
        "colab": {
          "base_uri": "https://localhost:8080/",
          "height": 268
        }
      },
      "source": [
        "import matplotlib.patches as mpatches\n",
        "values = np.unique(data.ravel())\n",
        "im = plt.imshow(data, cmap = 'hot', interpolation='none')\n",
        "colors = [ im.cmap(im.norm(value)) for value in values]\n",
        "patches = [ mpatches.Patch(color=colors[i], label=\"Level {l}\".format(l=values[i]) ) for i in range(len(values)) ]\n",
        "plt.legend(handles=patches, bbox_to_anchor=(1.05, 1), loc=2, borderaxespad=0. )\n",
        "plt.show()"
      ],
      "execution_count": 0,
      "outputs": [
        {
          "output_type": "display_data",
          "data": {
            "image/png": "[encoded data removed]",
            "text/plain": [
              "<Figure size 432x288 with 1 Axes>"
            ]
          },
          "metadata": {
            "tags": []
          }
        }
      ]
    }
  ]
}