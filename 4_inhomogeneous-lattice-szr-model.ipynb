{
  "nbformat": 4,
  "nbformat_minor": 0,
  "metadata": {
    "colab": {
      "name": "Inhomogeneous lattice SZR model",
      "provenance": [],
      "collapsed_sections": [
        "MQ532r2Mz3nh",
        "zAf5JaLCzqMT"
      ],
      "include_colab_link": true
    },
    "kernelspec": {
      "name": "python3",
      "display_name": "Python 3"
    },
    "accelerator": "GPU"
  },
  "cells": [
    {
      "cell_type": "markdown",
      "metadata": {
        "id": "view-in-github",
        "colab_type": "text"
      },
      "source": [
        "<a href=\"https://colab.research.google.com/gist/Conal97/3f42bc8a2a312061c1e38bfd64ab30ee/inhomogeneous-lattice-szr-model.ipynb\" target=\"_parent\"><img src=\"https://colab.research.google.com/assets/colab-badge.svg\" alt=\"Open In Colab\"/></a>"
      ]
    },
    {
      "cell_type": "code",
      "metadata": {
        "id": "ABdgiMLDptYs",
        "colab_type": "code",
        "colab": {}
      },
      "source": [
        "!pip install mesa\n",
        "import numpy as np\n",
        "import math\n",
        "import random\n",
        "\n",
        "\n",
        "import matplotlib.pyplot as plt\n",
        "%matplotlib inline\n",
        "\n",
        "from mesa import Model, Agent\n",
        "from mesa.time import RandomActivation\n",
        "from mesa.space import MultiGrid\n",
        "from mesa.datacollection import DataCollector\n",
        "from mesa.batchrunner import BatchRunner"
      ],
      "execution_count": 0,
      "outputs": []
    },
    {
      "cell_type": "markdown",
      "metadata": {
        "id": "sOkS3E6scpRM",
        "colab_type": "text"
      },
      "source": [
        "**Defining Movement**\n",
        "\n",
        "This agent is used to define how the zombie(s) can move through the grid."
      ]
    },
    {
      "cell_type": "code",
      "metadata": {
        "id": "AvbcGiWfblo4",
        "colab_type": "code",
        "colab": {}
      },
      "source": [
        "class RandomWalker(Agent):\n",
        "    '''\n",
        "    Class implementing random walker methods in a generalized manner.\n",
        "    Not indended to be used on its own, but to inherit its methods to multiple\n",
        "    other agents.\n",
        "    '''\n",
        "\n",
        "    grid = None\n",
        "    x = None\n",
        "    y = None\n",
        "    moore = False\n",
        "\n",
        "    def __init__(self, pos, model, moore=False):\n",
        "        '''\n",
        "        grid: The MultiGrid object in which the agent lives.\n",
        "        x: The agent's current x coordinate\n",
        "        y: The agent's current y coordinate\n",
        "        moore: If True, may move in all 8 directions.\n",
        "                Otherwise, only up, down, left, right.\n",
        "        '''\n",
        "        super().__init__(pos, model)\n",
        "        self.pos = pos\n",
        "        self.moore = moore\n",
        "\n",
        "    def random_move(self):\n",
        "        '''\n",
        "        Step one cell in any allowable direction.\n",
        "        '''\n",
        "        # Pick the next cell from the adjacent cells.\n",
        "        next_moves = self.model.grid.get_neighborhood(self.pos, self.moore, True)\n",
        "        next_move = random.choice(next_moves)\n",
        "        # Now move:\n",
        "        self.model.grid.move_agent(self, next_move)"
      ],
      "execution_count": 0,
      "outputs": []
    },
    {
      "cell_type": "markdown",
      "metadata": {
        "id": "Td457cfZc2Y3",
        "colab_type": "text"
      },
      "source": [
        "**Defining the Susceptible class**\n",
        "\n",
        "This agent is our susceptible, they will be placed randomly across the grid and will remain in place as the zombie moves through the grid. They can either kill the zombie, or become a zombie.\n",
        "\n",
        "This class can be edited in the future to allow for density, movement and more (reproduction, energy, tools, different conditions of suscpetibles). "
      ]
    },
    {
      "cell_type": "code",
      "metadata": {
        "id": "MYbqyFu9tQ8V",
        "colab_type": "code",
        "colab": {}
      },
      "source": [
        "class Susceptible(Agent):\n",
        "  '''\n",
        "  A susceptible that stays in place, and fights with zombies either becoming one or killing the zombie.\n",
        "\n",
        "  '''\n",
        "  def __init__(self, pos, model):\n",
        "      super().__init__(pos, model)  \n",
        "      self.pos = pos\n",
        "      \n",
        "\n"
      ],
      "execution_count": 0,
      "outputs": []
    },
    {
      "cell_type": "markdown",
      "metadata": {
        "id": "VX0-cl-QfE2q",
        "colab_type": "text"
      },
      "source": [
        "**Defining the Removed class**\n",
        "\n",
        "This agent is our removed, they are placed at the site of a zombie being killed by a susceptible. \n",
        "\n",
        "Again, modifications can be made to this class in the future to alter the dynamics of the model. \n",
        "\n"
      ]
    },
    {
      "cell_type": "code",
      "metadata": {
        "id": "_W3RsNpreyPB",
        "colab_type": "code",
        "colab": {}
      },
      "source": [
        "class Removed(Agent):\n",
        "    '''\n",
        "    A removed that stays in place, they are the result of a zombie being killed by a susceptible. \n",
        "    \n",
        "    '''\n",
        "\n",
        "    def __init__(self, pos, model):\n",
        "        super().__init__(pos, model) \n",
        "        self.pos = pos\n",
        "        \n",
        "\n"
      ],
      "execution_count": 0,
      "outputs": []
    },
    {
      "cell_type": "markdown",
      "metadata": {
        "id": "jSUtO4x4fbHt",
        "colab_type": "text"
      },
      "source": [
        "**Defining the Zombie class**\n",
        "\n",
        "This agent is our Zombie, it moves randomly around the grid. When it comes into contact with a susceptible it will fight them, either causing them to become a zombie, or will lose and become removed. "
      ]
    },
    {
      "cell_type": "code",
      "metadata": {
        "id": "oQDYc1YwfayU",
        "colab_type": "code",
        "colab": {}
      },
      "source": [
        "class Zombie(RandomWalker):\n",
        "    '''\n",
        "    A zombie that walks around, and either bites or gets killed by susceptibles.\n",
        "    '''\n",
        "\n",
        "    def __init__(self,pos, model, moore):\n",
        "        super().__init__(pos, model, moore=moore)\n",
        "        \n",
        "\n",
        "    def step(self):\n",
        "        self.random_move()\n",
        "        \n",
        "        # If there are susceptibles present, attempt to bite one\n",
        "        x, y = self.pos\n",
        "        this_cell = self.model.grid.get_cell_list_contents([self.pos])\n",
        "        susceptible = [obj for obj in this_cell if isinstance(obj, Susceptible)]\n",
        "        zombie = [obj for obj in this_cell if isinstance(obj, Zombie)]\n",
        "\n",
        "        if len(susceptible) > 0:\n",
        "          #rate constants\n",
        "          beta = 0.03\n",
        "          kappa = 0.018\n",
        "          #rate equations to determine what happens\n",
        "          k1 = beta * len(susceptible) * len(zombie)\n",
        "          k2 = kappa * len(susceptible) * len(zombie)\n",
        "          K = k1 + k2\n",
        "\n",
        "          #transtition susceptible to zombie\n",
        "          if random.uniform(0.0,1.0) < k1 / K:\n",
        "            #randomly choose susceptible in cell and remove it\n",
        "            susceptible_to_bite = random.choice(susceptible) \n",
        "            self.model.grid._remove_agent(self.pos, susceptible_to_bite)\n",
        "            self.model.schedule.remove(susceptible_to_bite) \n",
        "            #place a zombie where the susceptible was\n",
        "            new_zombie = Zombie(self.pos, self.model, self.moore)\n",
        "            self.model.grid.place_agent(new_zombie, new_zombie.pos)\n",
        "            self.model.schedule.add(new_zombie)\n",
        "\n",
        "          #transition zombie to removed\n",
        "          else:\n",
        "            #randomly choose zombie in cell and remove it\n",
        "            zombie_to_remove = random.choice(zombie) \n",
        "            self.model.grid._remove_agent(self.pos, zombie_to_remove)\n",
        "            self.model.schedule.remove(zombie_to_remove) \n",
        "            #place a removed where the zombie was\n",
        "            new_removed = Removed(self.pos, self.model)\n",
        "            self.model.grid.place_agent(new_removed, new_removed.pos)\n",
        "            self.model.schedule.add(new_removed)\n"
      ],
      "execution_count": 0,
      "outputs": []
    },
    {
      "cell_type": "markdown",
      "metadata": {
        "id": "K2TCfqKas1Ne",
        "colab_type": "text"
      },
      "source": [
        "**Adding the scheduler**\n",
        "\n"
      ]
    },
    {
      "cell_type": "code",
      "metadata": {
        "id": "ppyJWsLnsMgl",
        "colab_type": "code",
        "colab": {}
      },
      "source": [
        "from collections import defaultdict\n",
        "\n",
        "class RandomActivationByBreed(RandomActivation):\n",
        "    '''\n",
        "    A scheduler which activates each type of agent once per step, in random\n",
        "    order, with the order reshuffled every step.\n",
        "    Assumes that all agents have a step() method.\n",
        "    '''\n",
        "    agents_by_breed = defaultdict(list)\n",
        "\n",
        "    def __init__(self, model):\n",
        "        super().__init__(model)\n",
        "        self.agents_by_breed = defaultdict(list)\n",
        "\n",
        "    def add(self, agent):\n",
        "        '''\n",
        "        Add an Agent object to the schedule\n",
        "        Args:\n",
        "        agent: An Agent to be added to the schedule.\n",
        "        '''\n",
        "\n",
        "        self.agents.append(agent)\n",
        "        agent_class = type(agent)\n",
        "        self.agents_by_breed[agent_class].append(agent)\n",
        "\n",
        "    def remove(self, agent):\n",
        "        '''\n",
        "        Remove all instances of a given agent from the schedule.\n",
        "        '''\n",
        "\n",
        "        while agent in self.agents:\n",
        "            self.agents.remove(agent)\n",
        "\n",
        "        agent_class = type(agent)\n",
        "        while agent in self.agents_by_breed[agent_class]:\n",
        "            self.agents_by_breed[agent_class].remove(agent)\n",
        "\n",
        "    def step(self, by_breed=True):\n",
        "        '''\n",
        "        Executes the step of each agent breed, one at a time, in random order.\n",
        "        Args:\n",
        "            by_breed: If True, run all agents of a single breed before running\n",
        "                      the next one.\n",
        "        '''\n",
        "        if by_breed:\n",
        "            for agent_class in self.agents_by_breed:\n",
        "                self.step_breed(agent_class)\n",
        "            self.steps += 1\n",
        "            self.time += 1\n",
        "        else:\n",
        "            super().step()\n",
        "\n",
        "    def step_breed(self, breed):\n",
        "        '''\n",
        "        Shuffle order and run all agents of a given breed.\n",
        "        Args:\n",
        "            breed: Class object of the breed to run.\n",
        "        '''\n",
        "        agents = self.agents_by_breed[breed]\n",
        "        random.shuffle(agents)\n",
        "        for agent in agents:\n",
        "            agent.step()\n",
        "\n",
        "    def get_breed_count(self, breed_class):\n",
        "        '''\n",
        "        Returns the current number of agents of certain breed in the queue.\n",
        "        '''\n",
        "        return len(self.agents_by_breed[breed_class])"
      ],
      "execution_count": 0,
      "outputs": []
    },
    {
      "cell_type": "markdown",
      "metadata": {
        "id": "WARN7rnawOsW",
        "colab_type": "text"
      },
      "source": [
        "**Defining the Model**\n",
        "\n",
        "This will run our simulation."
      ]
    },
    {
      "cell_type": "code",
      "metadata": {
        "id": "mFp8tYrVwUS8",
        "colab_type": "code",
        "colab": {}
      },
      "source": [
        "class ZombieApocalypse(Model):\n",
        "    '''\n",
        "    Zombie Apocalypse Model with zombie movement\n",
        "    '''\n",
        "    def __init__(self, height, width,\n",
        "                 initial_susceptibles, initial_zombies,\n",
        "                 initial_removed):\n",
        "        '''\n",
        "        Create a new zombie apocalpyse model with the given parameters.\n",
        "        Args:\n",
        "            initial_susceptibles: Number of susceptibles to start with\n",
        "            initial_zombies: Number of zombies to start with\n",
        "            initial_removed: Number of removed to start with\n",
        "        '''\n",
        "\n",
        "        # Set parameters\n",
        "        self.height = height\n",
        "        self.width = width\n",
        "        self.initial_susceptibles = initial_susceptibles\n",
        "        self.initial_zombies = initial_zombies\n",
        "        self.initial_removed = initial_removed\n",
        "       \n",
        "        # Set scheduler, grid type and initialise data collector\n",
        "        self.schedule = RandomActivationByBreed(self)\n",
        "        self.grid = MultiGrid(self.height, self.width, torus=True)\n",
        "        self.datacollector = DataCollector(\n",
        "            {\"Suseptibles\": lambda m: self.schedule.get_breed_count(Susceptible),\n",
        "             \"Zombie\": lambda m: self.schedule.get_breed_count(Zombie),\n",
        "             \"Removed\": lambda m: self.schedule.get_breed_count(Removed)})\n",
        "\n",
        "        # Create susceptible:\n",
        "        unique_id = 0\n",
        "        for i in range(self.initial_susceptibles):\n",
        "            x = random.randrange(self.width)\n",
        "            y = random.randrange(self.height)\n",
        "            susceptible = Susceptible((x, y), self)\n",
        "            self.grid.place_agent(susceptible, (x, y))\n",
        "            self.schedule.add(susceptible)\n",
        "\n",
        "        # Create zombie\n",
        "        for i in range(self.initial_zombies):\n",
        "            x = random.randrange(self.width)\n",
        "            y = random.randrange(self.height)\n",
        "            zombie = Zombie((x, y), self, False)\n",
        "            self.grid.place_agent(zombie, (x, y))\n",
        "            self.schedule.add(zombie)\n",
        "\n",
        "        self.running = True\n",
        "\n",
        "    def step(self):\n",
        "        self.schedule.step()\n",
        "        self.datacollector.collect(self)"
      ],
      "execution_count": 0,
      "outputs": []
    },
    {
      "cell_type": "code",
      "metadata": {
        "id": "z-jH1gJSxMIE",
        "colab_type": "code",
        "outputId": "911f3efb-6ced-4408-a357-660b1664d8bb",
        "colab": {
          "base_uri": "https://localhost:8080/",
          "height": 508
        }
      },
      "source": [
        "apocalypse = ZombieApocalypse(20, 20, 199, 1, 0)\n",
        "for i in range(300):\n",
        "  apocalypse.step()\n",
        "\n",
        "# Unfortunately some runs result in an unexpected and unexplianed dictionary error. \n",
        "# Repeatedly running the cell results in a majority of succesful runs. \n",
        "# Due to limited time this error was not investigated further.\n",
        "\n",
        "results = apocalypse.datacollector.get_model_vars_dataframe()\n",
        "results.plot()\n",
        "print(results)"
      ],
      "execution_count": 0,
      "outputs": [
        {
          "output_type": "stream",
          "text": [
            "     Suseptibles  Zombie  Removed\n",
            "0            199       1        0\n",
            "1            199       1        0\n",
            "2            199       1        0\n",
            "3            199       1        0\n",
            "4            199       1        0\n",
            "..           ...     ...      ...\n",
            "295            0      71      129\n",
            "296            0      71      129\n",
            "297            0      71      129\n",
            "298            0      71      129\n",
            "299            0      71      129\n",
            "\n",
            "[300 rows x 3 columns]\n"
          ],
          "name": "stdout"
        },
        {
          "output_type": "display_data",
          "data": {
            "image/png": "[encoded data removed]",
            "text/plain": [
              "<Figure size 432x288 with 1 Axes>"
            ]
          },
          "metadata": {
            "tags": []
          }
        }
      ]
    }
  ]
}